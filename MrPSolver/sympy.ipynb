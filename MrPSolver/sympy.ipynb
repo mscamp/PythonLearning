{
 "cells": [
  {
   "cell_type": "markdown",
   "metadata": {},
   "source": [
    "# SymPy Tutorial"
   ]
  },
  {
   "cell_type": "code",
   "execution_count": 1,
   "metadata": {},
   "outputs": [],
   "source": [
    "# Librerie\n",
    "import sympy as smp\n",
    "import numpy as np\n",
    "from matplotlib import pyplot as plt\n",
    "import scienceplots\n",
    "\n",
    "plt.style.use([\"science\", \"notebook\", \"grid\"])"
   ]
  },
  {
   "cell_type": "markdown",
   "metadata": {},
   "source": [
    "## Le basi"
   ]
  },
  {
   "cell_type": "markdown",
   "metadata": {},
   "source": [
    "In SymPy è possibile definire e lavorare con variabili simboliche"
   ]
  },
  {
   "cell_type": "code",
   "execution_count": 2,
   "metadata": {},
   "outputs": [
    {
     "data": {
      "text/latex": [
       "$\\displaystyle x$"
      ],
      "text/plain": [
       "x"
      ]
     },
     "execution_count": 2,
     "metadata": {},
     "output_type": "execute_result"
    }
   ],
   "source": [
    "x = smp.symbols(\"x\")\n",
    "x"
   ]
  },
  {
   "cell_type": "code",
   "execution_count": 3,
   "metadata": {},
   "outputs": [
    {
     "data": {
      "text/latex": [
       "$\\displaystyle x^{2}$"
      ],
      "text/plain": [
       "x**2"
      ]
     },
     "execution_count": 3,
     "metadata": {},
     "output_type": "execute_result"
    }
   ],
   "source": [
    "x**2 # Potenza"
   ]
  },
  {
   "cell_type": "code",
   "execution_count": 4,
   "metadata": {},
   "outputs": [
    {
     "data": {
      "text/latex": [
       "$\\displaystyle \\Gamma\\left(x\\right)$"
      ],
      "text/plain": [
       "gamma(x)"
      ]
     },
     "execution_count": 4,
     "metadata": {},
     "output_type": "execute_result"
    }
   ],
   "source": [
    "gamma = smp.gamma(x) # Built-in functions\n",
    "gamma"
   ]
  },
  {
   "cell_type": "markdown",
   "metadata": {},
   "source": [
    "E'possibile definire nuove espressioni simboliche a partire dalle variabili definite, per esempio"
   ]
  },
  {
   "cell_type": "code",
   "execution_count": 5,
   "metadata": {},
   "outputs": [
    {
     "data": {
      "text/latex": [
       "$\\displaystyle \\left(x^{2} - 4 x + 4\\right) \\Gamma\\left(x\\right)$"
      ],
      "text/plain": [
       "(x**2 - 4*x + 4)*gamma(x)"
      ]
     },
     "execution_count": 5,
     "metadata": {},
     "output_type": "execute_result"
    }
   ],
   "source": [
    "y = x**2 - 4 * x + 4\n",
    "y * gamma"
   ]
  },
  {
   "cell_type": "code",
   "execution_count": 6,
   "metadata": {},
   "outputs": [
    {
     "data": {
      "text/latex": [
       "$\\displaystyle \\left(x^{2} - 4 x + 4\\right)^{2}$"
      ],
      "text/plain": [
       "(x**2 - 4*x + 4)**2"
      ]
     },
     "execution_count": 6,
     "metadata": {},
     "output_type": "execute_result"
    }
   ],
   "source": [
    "z = y**2\n",
    "z"
   ]
  },
  {
   "cell_type": "markdown",
   "metadata": {},
   "source": [
    "## Fattorizzare / Espandere un'espressione  \n",
    "Per fattorizzare un polinomio"
   ]
  },
  {
   "cell_type": "code",
   "execution_count": 7,
   "metadata": {},
   "outputs": [
    {
     "data": {
      "text/latex": [
       "$\\displaystyle \\left(x - 2\\right)^{2}$"
      ],
      "text/plain": [
       "(x - 2)**2"
      ]
     },
     "execution_count": 7,
     "metadata": {},
     "output_type": "execute_result"
    }
   ],
   "source": [
    "y.factor()"
   ]
  },
  {
   "cell_type": "markdown",
   "metadata": {},
   "source": [
    "Per espandere un'espressione"
   ]
  },
  {
   "cell_type": "code",
   "execution_count": 8,
   "metadata": {},
   "outputs": [
    {
     "data": {
      "text/latex": [
       "$\\displaystyle x^{4} - 8 x^{3} + 24 x^{2} - 32 x + 16$"
      ],
      "text/plain": [
       "x**4 - 8*x**3 + 24*x**2 - 32*x + 16"
      ]
     },
     "execution_count": 8,
     "metadata": {},
     "output_type": "execute_result"
    }
   ],
   "source": [
    "z.expand()"
   ]
  },
  {
   "cell_type": "markdown",
   "metadata": {},
   "source": [
    "## Il metodo `smp.solve()`"
   ]
  },
  {
   "cell_type": "markdown",
   "metadata": {},
   "source": [
    "`smp.solve(f, x)` trova il valore di $ x $ tale che $ f(x) = 0 $, è importante scrivere le equazioni in modo che il membro di destra sia $ 0 $ per risolvere un'espressione con `smp.solve()`"
   ]
  },
  {
   "cell_type": "code",
   "execution_count": 9,
   "metadata": {},
   "outputs": [
    {
     "data": {
      "text/plain": [
       "[2]"
      ]
     },
     "execution_count": 9,
     "metadata": {},
     "output_type": "execute_result"
    }
   ],
   "source": [
    "smp.solve(z, x)"
   ]
  },
  {
   "cell_type": "code",
   "execution_count": 10,
   "metadata": {},
   "outputs": [
    {
     "data": {
      "text/plain": [
       "[0, pi]"
      ]
     },
     "execution_count": 10,
     "metadata": {},
     "output_type": "execute_result"
    }
   ],
   "source": [
    "smp.solve(smp.sin(x), x)"
   ]
  },
  {
   "cell_type": "markdown",
   "metadata": {},
   "source": [
    "### Specificare la natura di una variabile simbolica\n",
    "\n",
    "**Good practice**: se si conosce la natura di una variabile (numero intero, numero reale, numero complesso, positivo, negativo, ...) è importante specificarla quando la si definisce, per evitare problemi. Per esempio"
   ]
  },
  {
   "cell_type": "code",
   "execution_count": 11,
   "metadata": {},
   "outputs": [
    {
     "data": {
      "text/plain": [
       "[-I, I]"
      ]
     },
     "execution_count": 11,
     "metadata": {},
     "output_type": "execute_result"
    }
   ],
   "source": [
    "x = smp.symbols(\"x\")\n",
    "y = x**2 + 1\n",
    "smp.solve(y, x) # soluzioni nel campo complesso"
   ]
  },
  {
   "cell_type": "code",
   "execution_count": 12,
   "metadata": {},
   "outputs": [
    {
     "data": {
      "text/plain": [
       "[]"
      ]
     },
     "execution_count": 12,
     "metadata": {},
     "output_type": "execute_result"
    }
   ],
   "source": [
    "# Se invece volessi le soluzioni nel campo dei numeri reali\n",
    "x = smp.symbols(\"x\", real = True)\n",
    "y = x**2 + 1\n",
    "smp.solve(y, x) # soluzioni nel campo reale"
   ]
  },
  {
   "cell_type": "markdown",
   "metadata": {},
   "source": [
    "Un altro esempio"
   ]
  },
  {
   "cell_type": "code",
   "execution_count": 13,
   "metadata": {},
   "outputs": [
    {
     "data": {
      "text/plain": [
       "[-4]"
      ]
     },
     "execution_count": 13,
     "metadata": {},
     "output_type": "execute_result"
    }
   ],
   "source": [
    "x = smp.symbols(\"x\", real = True)\n",
    "y = x + 4\n",
    "smp.solve(y, x)"
   ]
  },
  {
   "cell_type": "code",
   "execution_count": 14,
   "metadata": {},
   "outputs": [
    {
     "data": {
      "text/plain": [
       "[]"
      ]
     },
     "execution_count": 14,
     "metadata": {},
     "output_type": "execute_result"
    }
   ],
   "source": [
    "x = smp.symbols(\"x\", real = True, positive = True)\n",
    "y = x + 4\n",
    "smp.solve(y, x) "
   ]
  },
  {
   "cell_type": "markdown",
   "metadata": {},
   "source": [
    "## Espressioni in più variabili\n",
    "Posso anche definire più variabili allo stesso tempo"
   ]
  },
  {
   "cell_type": "code",
   "execution_count": 15,
   "metadata": {},
   "outputs": [
    {
     "data": {
      "text/latex": [
       "$\\displaystyle x^{2} + y \\sin{\\left(z \\right)}$"
      ],
      "text/plain": [
       "x**2 + y*sin(z)"
      ]
     },
     "execution_count": 15,
     "metadata": {},
     "output_type": "execute_result"
    }
   ],
   "source": [
    "x, y, z = smp.symbols(\"x y z\")\n",
    "F = x**2 + y * smp.sin(z)\n",
    "F"
   ]
  },
  {
   "cell_type": "markdown",
   "metadata": {},
   "source": [
    "Si possono risolvere espressioni in più variabili allo stesso modo"
   ]
  },
  {
   "cell_type": "code",
   "execution_count": 16,
   "metadata": {},
   "outputs": [
    {
     "data": {
      "text/plain": [
       "[-sqrt(-y*sin(z)), sqrt(-y*sin(z))]"
      ]
     },
     "execution_count": 16,
     "metadata": {},
     "output_type": "execute_result"
    }
   ],
   "source": [
    "x_sols = smp.solve(F, x)\n",
    "x_sols"
   ]
  },
  {
   "cell_type": "code",
   "execution_count": 17,
   "metadata": {},
   "outputs": [
    {
     "data": {
      "text/plain": [
       "[-x**2/sin(z)]"
      ]
     },
     "execution_count": 17,
     "metadata": {},
     "output_type": "execute_result"
    }
   ],
   "source": [
    "y_sols = smp.solve(F, y)\n",
    "y_sols"
   ]
  },
  {
   "cell_type": "code",
   "execution_count": 18,
   "metadata": {},
   "outputs": [
    {
     "data": {
      "text/plain": [
       "[asin(x**2/y) + pi, -asin(x**2/y)]"
      ]
     },
     "execution_count": 18,
     "metadata": {},
     "output_type": "execute_result"
    }
   ],
   "source": [
    "z_sols = smp.solve(F, z)\n",
    "z_sols"
   ]
  },
  {
   "cell_type": "markdown",
   "metadata": {},
   "source": [
    "## Trasformare le espressioni simboliche in funzioni di Python\n",
    "E' possibile trasformare le espressioni simboliche di SymPy in funzioni di Python, per esempio per plottarle usando NumPy e MatPlotLib"
   ]
  },
  {
   "cell_type": "code",
   "execution_count": 19,
   "metadata": {},
   "outputs": [
    {
     "data": {
      "text/latex": [
       "$\\displaystyle \\operatorname{asin}{\\left(\\frac{x^{2}}{y} \\right)} + \\pi$"
      ],
      "text/plain": [
       "asin(x**2/y) + pi"
      ]
     },
     "execution_count": 19,
     "metadata": {},
     "output_type": "execute_result"
    }
   ],
   "source": [
    "expression = z_sols[0]\n",
    "expression"
   ]
  },
  {
   "cell_type": "code",
   "execution_count": 20,
   "metadata": {},
   "outputs": [
    {
     "data": {
      "text/plain": [
       "3.6651914291880923"
      ]
     },
     "execution_count": 20,
     "metadata": {},
     "output_type": "execute_result"
    }
   ],
   "source": [
    "expression_f = smp.lambdify([x, y], expression)\n",
    "expression_f(1, 2)"
   ]
  },
  {
   "cell_type": "code",
   "execution_count": 21,
   "metadata": {},
   "outputs": [
    {
     "name": "stderr",
     "output_type": "stream",
     "text": [
      "<lambdifygenerated-1>:2: RuntimeWarning: invalid value encountered in arcsin\n",
      "  return arcsin(x**2/y) + pi\n"
     ]
    },
    {
     "data": {
      "image/png": "[encoded data removed]",
      "text/plain": [
       "<Figure size 800x600 with 1 Axes>"
      ]
     },
     "metadata": {},
     "output_type": "display_data"
    }
   ],
   "source": [
    "# Plot\n",
    "x_min = 0.0\n",
    "x_max = 5.0\n",
    "x_coord = np.linspace(x_min, x_max, 10000)\n",
    "\n",
    "fig, ax = plt.subplots(nrows = 1, ncols = 1)\n",
    "ax.set_xlabel(\"x\")\n",
    "ax.set_ylabel(\"F(x, y = 2)\")\n",
    "ax.plot(x_coord, expression_f(x_coord, 2), color = \"blue\", label = \"asin(x**2 / y) + pi\")\n",
    "\n",
    "plt.show()"
   ]
  },
  {
   "cell_type": "markdown",
   "metadata": {},
   "source": [
    "## Sostituzioni\n",
    "Per funzioni a più variabili, è possibile fare una sostituzione di valori"
   ]
  },
  {
   "cell_type": "code",
   "execution_count": 22,
   "metadata": {},
   "outputs": [
    {
     "data": {
      "text/latex": [
       "$\\displaystyle x^{2} + y \\sin{\\left(z \\right)}$"
      ],
      "text/plain": [
       "x**2 + y*sin(z)"
      ]
     },
     "execution_count": 22,
     "metadata": {},
     "output_type": "execute_result"
    }
   ],
   "source": [
    "F"
   ]
  },
  {
   "cell_type": "code",
   "execution_count": 23,
   "metadata": {},
   "outputs": [
    {
     "data": {
      "text/latex": [
       "$\\displaystyle x^{2}$"
      ],
      "text/plain": [
       "x**2"
      ]
     },
     "execution_count": 23,
     "metadata": {},
     "output_type": "execute_result"
    }
   ],
   "source": [
    "F.subs([(y, smp.cos(z)), (z, smp.pi / 2)]) # sostituisce y con cos(z) e z con pi / 2"
   ]
  },
  {
   "cell_type": "code",
   "execution_count": 24,
   "metadata": {},
   "outputs": [
    {
     "data": {
      "text/latex": [
       "$\\displaystyle x^{2} + \\sin{\\left(y \\right)} \\cos{\\left(y \\right)}$"
      ],
      "text/plain": [
       "x**2 + sin(y)*cos(y)"
      ]
     },
     "execution_count": 24,
     "metadata": {},
     "output_type": "execute_result"
    }
   ],
   "source": [
    "F.subs([(y, smp.cos(z)), (z, y)]) # sostituisce y con cos(z) e z con y"
   ]
  },
  {
   "cell_type": "markdown",
   "metadata": {},
   "source": [
    "## Esempio: sistema lineare di equazioni\n",
    "\n",
    "Si vuole risolvere il seguente problema: un oggetto viene lanciato verso il basso a partire da un'altezza $ h_{0} $ con velocità $ v_{0} $ e ad un certo punto incontra una piattaforma che si sta muovendo verso l'alto con velocità $ v_{p} $\n",
    "\n",
    "$$ h_{0}(t) = h_{0} - v_{0} t - \\frac{1}{2} g t^{2} $$\n",
    "$$ h_{p}(t) = v_{p} t + \\frac{1}{2} a_{p} t^{2} $$\n",
    "\n",
    "**Determina la velocità iniziale $ v_{0} $ dell'oggetto in caduta libera tale che, nel momento della collisione con la piattaforma, essi si muovano alla stessa velocità. Determina inoltre la velocità dei due corpi nel momento della collisione.**\n",
    "\n",
    "Per risolvere il problema, si deve impostare un sistema di equazioni\n",
    "\n",
    "\\begin{equation*}\n",
    "  \\left\\{ \n",
    "    \\begin{aligned} \n",
    "      h_{0}(t) &= h_{p}(t) \\\\\n",
    "      h'_{0}(t) &= -h'_{p}(t)\n",
    "    \\end{aligned} \n",
    "  \\right.\n",
    "\\end{equation*}\n",
    "\n",
    "Si porta tutto al primo membro per scrivere delle espressioni che possano essere risolte con SymPy\n",
    "\n",
    "\\begin{equation*}\n",
    "  \\left\\{ \n",
    "    \\begin{aligned} \n",
    "      h_{0}(t) - h_{p}(t) &= 0 \\\\\n",
    "      h'_{0}(t) + h'_{p}(t) &= 0\n",
    "    \\end{aligned} \n",
    "  \\right.\n",
    "\\end{equation*}\n",
    "\n",
    "Si inizia definendo i simboli necessari"
   ]
  },
  {
   "cell_type": "code",
   "execution_count": 25,
   "metadata": {},
   "outputs": [],
   "source": [
    "t, h_0, v_0, g, v_p, a_p = smp.symbols(\"t, h_0, v_0, g, v_p, a_p\", real = True, positive = True)"
   ]
  },
  {
   "cell_type": "markdown",
   "metadata": {},
   "source": [
    "Si definiscono le espressioni"
   ]
  },
  {
   "cell_type": "code",
   "execution_count": 26,
   "metadata": {},
   "outputs": [],
   "source": [
    "h0_t = h_0 - v_0 * t - smp.Rational(1, 2) * g * t**2\n",
    "hp_t = v_p * t + smp.Rational(1, 2) * a_p * t**2\n",
    "h0_t_prime = smp.diff(h0_t, t)\n",
    "hp_t_prime = smp.diff(hp_t, t)"
   ]
  },
  {
   "cell_type": "markdown",
   "metadata": {},
   "source": [
    "Si definiscono le equazioni del sistema, ricordandosi di spostare tutto a primo membro"
   ]
  },
  {
   "cell_type": "code",
   "execution_count": 27,
   "metadata": {},
   "outputs": [],
   "source": [
    "eq_1 = h0_t - hp_t\n",
    "eq_2 = h0_t_prime + hp_t_prime"
   ]
  },
  {
   "cell_type": "markdown",
   "metadata": {},
   "source": [
    "A questo punto si risolve il sistema"
   ]
  },
  {
   "cell_type": "code",
   "execution_count": 28,
   "metadata": {},
   "outputs": [
    {
     "data": {
      "text/latex": [
       "$\\displaystyle \\frac{2 v_{p} + \\sqrt{6 a_{p} h_{0} - 2 g h_{0} + 4 v_{p}^{2}}}{- 3 a_{p} + g}$"
      ],
      "text/plain": [
       "(2*v_p + sqrt(6*a_p*h_0 - 2*g*h_0 + 4*v_p**2))/(-3*a_p + g)"
      ]
     },
     "execution_count": 28,
     "metadata": {},
     "output_type": "execute_result"
    }
   ],
   "source": [
    "t_collision, v_iniziale = smp.solve([eq_1, eq_2], [t, v_0])[0] # Collezione di tuple, ciascuna avente due elementi, di cui viene presa la prima tupla\n",
    "t_collision.simplify()"
   ]
  },
  {
   "cell_type": "code",
   "execution_count": 29,
   "metadata": {},
   "outputs": [
    {
     "data": {
      "text/latex": [
       "$\\displaystyle \\frac{v_{p} \\left(a_{p} + g\\right) + \\left(- a_{p} + g\\right) \\sqrt{6 a_{p} h_{0} - 2 g h_{0} + 4 v_{p}^{2}}}{3 a_{p} - g}$"
      ],
      "text/plain": [
       "(v_p*(a_p + g) + (-a_p + g)*sqrt(6*a_p*h_0 - 2*g*h_0 + 4*v_p**2))/(3*a_p - g)"
      ]
     },
     "execution_count": 29,
     "metadata": {},
     "output_type": "execute_result"
    }
   ],
   "source": [
    "v_iniziale.simplify()"
   ]
  },
  {
   "cell_type": "markdown",
   "metadata": {},
   "source": [
    "Per ottenere la velocità al momento della collisione"
   ]
  },
  {
   "cell_type": "code",
   "execution_count": 30,
   "metadata": {},
   "outputs": [
    {
     "data": {
      "text/latex": [
       "$\\displaystyle \\frac{a_{p} v_{p} - a_{p} \\sqrt{6 a_{p} h_{0} - 2 g h_{0} + 4 v_{p}^{2}} - g v_{p}}{- 3 a_{p} + g}$"
      ],
      "text/plain": [
       "(a_p*v_p - a_p*sqrt(6*a_p*h_0 - 2*g*h_0 + 4*v_p**2) - g*v_p)/(-3*a_p + g)"
      ]
     },
     "execution_count": 30,
     "metadata": {},
     "output_type": "execute_result"
    }
   ],
   "source": [
    "v_collisione_0 = h0_t_prime.subs([(t, t_collision), (v_0, v_iniziale)])\n",
    "v_collisione_0.simplify()"
   ]
  },
  {
   "cell_type": "markdown",
   "metadata": {},
   "source": [
    "Per la piattaforma si trova lo stesso risultato con segno opposto"
   ]
  },
  {
   "cell_type": "code",
   "execution_count": 31,
   "metadata": {},
   "outputs": [
    {
     "data": {
      "text/latex": [
       "$\\displaystyle \\frac{- a_{p} v_{p} + a_{p} \\sqrt{6 a_{p} h_{0} - 2 g h_{0} + 4 v_{p}^{2}} + g v_{p}}{- 3 a_{p} + g}$"
      ],
      "text/plain": [
       "(-a_p*v_p + a_p*sqrt(6*a_p*h_0 - 2*g*h_0 + 4*v_p**2) + g*v_p)/(-3*a_p + g)"
      ]
     },
     "execution_count": 31,
     "metadata": {},
     "output_type": "execute_result"
    }
   ],
   "source": [
    "v_collisione_p = hp_t_prime.subs([(t, t_collision), (v_0, v_iniziale)])\n",
    "v_collisione_p.simplify()"
   ]
  },
  {
   "cell_type": "markdown",
   "metadata": {},
   "source": [
    "## Esempio: Analisi 1\n",
    "\n",
    "### Limiti\n",
    "\n",
    "$$ \\lim_{x \\to \\pi}{\\sin{\\left(\\frac{x}{2} + \\sin{(x)}\\right)}}"
   ]
  },
  {
   "cell_type": "code",
   "execution_count": 32,
   "metadata": {},
   "outputs": [
    {
     "data": {
      "text/latex": [
       "$\\displaystyle 1$"
      ],
      "text/plain": [
       "1"
      ]
     },
     "execution_count": 32,
     "metadata": {},
     "output_type": "execute_result"
    }
   ],
   "source": [
    "x = smp.symbols(\"x\")\n",
    "expr = smp.sin(x / 2 + smp.sin(x))\n",
    "smp.limit(expr, x, smp.pi)"
   ]
  },
  {
   "cell_type": "markdown",
   "metadata": {},
   "source": [
    "### Derivate\n",
    "\n",
    "$$ \\frac{d}{dx} \\left(\\frac{1 + \\sin{(x)}}{1 - \\cos{(x)}}\\right)^{2} $$"
   ]
  },
  {
   "cell_type": "code",
   "execution_count": 33,
   "metadata": {},
   "outputs": [
    {
     "data": {
      "text/latex": [
       "$\\displaystyle \\frac{2 \\left(- \\sqrt{2} \\cos{\\left(x + \\frac{\\pi}{4} \\right)} + 1\\right) \\left(\\sin{\\left(x \\right)} + 1\\right)}{\\left(\\cos{\\left(x \\right)} - 1\\right)^{3}}$"
      ],
      "text/plain": [
       "2*(-sqrt(2)*cos(x + pi/4) + 1)*(sin(x) + 1)/(cos(x) - 1)**3"
      ]
     },
     "execution_count": 33,
     "metadata": {},
     "output_type": "execute_result"
    }
   ],
   "source": [
    "expr = ((1 + smp.sin(x)) / (1 - smp.cos(x)))**2\n",
    "smp.diff(expr, x).simplify()"
   ]
  },
  {
   "cell_type": "markdown",
   "metadata": {},
   "source": [
    "Una possibilità che si rivela estremamente utile è quella di poter lavorare con funzioni astratte. Per esempio, se volessi calcolare la derivata\n",
    "\n",
    "$$ \\frac{d}{dx} f(x + g(x)) $$"
   ]
  },
  {
   "cell_type": "code",
   "execution_count": 34,
   "metadata": {},
   "outputs": [
    {
     "data": {
      "text/latex": [
       "$\\displaystyle f{\\left(x + g{\\left(x \\right)} \\right)}$"
      ],
      "text/plain": [
       "f(x + g(x))"
      ]
     },
     "execution_count": 34,
     "metadata": {},
     "output_type": "execute_result"
    }
   ],
   "source": [
    "f, g = smp.symbols(\"f g\", cls = smp.Function)\n",
    "g = g(x) # Bisogna specificare l'argomento delle funzioni\n",
    "f = f(x + g)\n",
    "f"
   ]
  },
  {
   "cell_type": "code",
   "execution_count": 35,
   "metadata": {},
   "outputs": [
    {
     "data": {
      "text/latex": [
       "$\\displaystyle \\left(\\frac{d}{d x} g{\\left(x \\right)} + 1\\right) \\left. \\frac{d}{d \\xi_{1}} f{\\left(\\xi_{1} \\right)} \\right|_{\\substack{ \\xi_{1}=x + g{\\left(x \\right)} }}$"
      ],
      "text/plain": [
       "(Derivative(g(x), x) + 1)*Subs(Derivative(f(_xi_1), _xi_1), _xi_1, x + g(x))"
      ]
     },
     "execution_count": 35,
     "metadata": {},
     "output_type": "execute_result"
    }
   ],
   "source": [
    "df_dx = smp.diff(f, x)\n",
    "df_dx"
   ]
  },
  {
   "cell_type": "markdown",
   "metadata": {},
   "source": [
    "Ora per esempio si può fare una sostituzione $ g(x) = sin(x) $"
   ]
  },
  {
   "cell_type": "code",
   "execution_count": 36,
   "metadata": {},
   "outputs": [
    {
     "data": {
      "text/latex": [
       "$\\displaystyle \\left(\\frac{d}{d x} \\sin{\\left(x \\right)} + 1\\right) \\left. \\frac{d}{d \\xi_{1}} f{\\left(\\xi_{1} \\right)} \\right|_{\\substack{ \\xi_{1}=x + \\sin{\\left(x \\right)} }}$"
      ],
      "text/plain": [
       "(Derivative(sin(x), x) + 1)*Subs(Derivative(f(_xi_1), _xi_1), _xi_1, x + sin(x))"
      ]
     },
     "execution_count": 36,
     "metadata": {},
     "output_type": "execute_result"
    }
   ],
   "source": [
    "df_dx.subs([(g, smp.sin(x))])"
   ]
  },
  {
   "cell_type": "markdown",
   "metadata": {},
   "source": [
    "E per calcolare esplicitamente tutte le derivate di $ g $ è necessario chiamare il metodo `doit()`"
   ]
  },
  {
   "cell_type": "code",
   "execution_count": 37,
   "metadata": {},
   "outputs": [
    {
     "data": {
      "text/latex": [
       "$\\displaystyle \\left(\\cos{\\left(x \\right)} + 1\\right) \\left. \\frac{d}{d \\xi_{1}} f{\\left(\\xi_{1} \\right)} \\right|_{\\substack{ \\xi_{1}=x + \\sin{\\left(x \\right)} }}$"
      ],
      "text/plain": [
       "(cos(x) + 1)*Subs(Derivative(f(_xi_1), _xi_1), _xi_1, x + sin(x))"
      ]
     },
     "execution_count": 37,
     "metadata": {},
     "output_type": "execute_result"
    }
   ],
   "source": [
    "df_dx.subs([(g, smp.sin(x))]).doit()"
   ]
  },
  {
   "cell_type": "markdown",
   "metadata": {},
   "source": [
    "### Integrali indefiniti\n",
    "\n",
    "**Nota bene**: Si deve aggiungere $ + C $\n",
    "\n",
    "$$ \\int{\\csc{(x)} \\cot{(x)} dx} $$"
   ]
  },
  {
   "cell_type": "code",
   "execution_count": 38,
   "metadata": {},
   "outputs": [
    {
     "data": {
      "text/latex": [
       "$\\displaystyle - \\frac{1}{\\sin{\\left(x \\right)}}$"
      ],
      "text/plain": [
       "-1/sin(x)"
      ]
     },
     "execution_count": 38,
     "metadata": {},
     "output_type": "execute_result"
    }
   ],
   "source": [
    "expr = smp.csc(x) * smp.cot(x)\n",
    "smp.integrate(expr, x)"
   ]
  },
  {
   "cell_type": "markdown",
   "metadata": {},
   "source": [
    "### Integrali definiti\n",
    "\n",
    "$$ \\int_{0}^{\\log{(4)}}{\\frac{e^{x}}{\\sqrt{e^{2x} + 9}} dx}"
   ]
  },
  {
   "cell_type": "code",
   "execution_count": 39,
   "metadata": {},
   "outputs": [
    {
     "data": {
      "text/latex": [
       "$\\displaystyle - \\operatorname{asinh}{\\left(\\frac{1}{3} \\right)} + \\operatorname{asinh}{\\left(\\frac{4}{3} \\right)}$"
      ],
      "text/plain": [
       "-asinh(1/3) + asinh(4/3)"
      ]
     },
     "execution_count": 39,
     "metadata": {},
     "output_type": "execute_result"
    }
   ],
   "source": [
    "expr = smp.exp(x) / smp.sqrt(smp.exp(2 * x) + 9)\n",
    "limits = (x, 0, smp.log(4))\n",
    "smp.integrate(expr, limits)"
   ]
  },
  {
   "cell_type": "markdown",
   "metadata": {},
   "source": [
    "$$ \\int_{1}^{t}{x^{10} e^{x} dx} $$"
   ]
  },
  {
   "cell_type": "code",
   "execution_count": 40,
   "metadata": {},
   "outputs": [
    {
     "data": {
      "text/latex": [
       "$\\displaystyle \\left(t^{10} - 10 t^{9} + 90 t^{8} - 720 t^{7} + 5040 t^{6} - 30240 t^{5} + 151200 t^{4} - 604800 t^{3} + 1814400 t^{2} - 3628800 t + 3628800\\right) e^{t} - 1334961 e$"
      ],
      "text/plain": [
       "(t**10 - 10*t**9 + 90*t**8 - 720*t**7 + 5040*t**6 - 30240*t**5 + 151200*t**4 - 604800*t**3 + 1814400*t**2 - 3628800*t + 3628800)*exp(t) - 1334961*E"
      ]
     },
     "execution_count": 40,
     "metadata": {},
     "output_type": "execute_result"
    }
   ],
   "source": [
    "expr = x**10 * smp.exp(x)\n",
    "limits = (x, 1, t)\n",
    "smp.integrate(expr, limits)"
   ]
  },
  {
   "cell_type": "markdown",
   "metadata": {},
   "source": [
    "## Esempio: atomo di idrogeno\n",
    "La funzione d'onda dell'atomo di idrogeno è definita da\n",
    "\n",
    "$$ \\psi_{nlm} = R_{nl}(r) Y_{l}^{m}(\\theta, \\phi) $$\n",
    "\n",
    "dove $ Y_{l}^{m}(\\theta, \\phi) $ sono le armoniche sferiche e $ R_{nl} $ rappresenta la parte radiale, data da\n",
    "\n",
    "$$ R_{nl}(r) = \\sqrt{\\left(\\frac{2}{na}\\right)^{3} \\frac{(n - l - 1)!}{2n(n + l)!}} e^{-\\frac{r}{na}} \\left(\\frac{2r}{na}\\right)^{l} L_{n - l - 1}^{2l + 1}(2r / na) $$\n",
    "\n",
    "dove $ a $ è il raggio di Bohr, mentre $ L_{n - l - 1}^{2l + 1} $ sono i polinomi associati di Laguerre. Si vuole trovare il valore di aspettazione della distanza di un elettrone dal nucleo, dato un certo livello energetico, \n",
    "\n",
    "$$ \\left<r\\right> = \\int_{0}^{+\\infty}{R_{nl}^{2} r^{3} dr} $$\n",
    "    \n",
    "$$ \\sigma = \\sqrt{\\left<r^{2}\\right> - \\left<r\\right>^{2}} = \\sqrt{\\left(\\int_{0}^{+\\infty}{R_{nl}^{2} r^{4} dr}\\right) - \\left(\\int_{0}^{+\\infty}{R_{nl}^{2} r^{3} dr}\\right)^{2}} $$"
   ]
  },
  {
   "cell_type": "markdown",
   "metadata": {},
   "source": [
    "Si definiscono le variabili del problema"
   ]
  },
  {
   "cell_type": "code",
   "execution_count": 41,
   "metadata": {},
   "outputs": [],
   "source": [
    "r, a = smp.symbols(\"r a\", real = True, positive = True)\n",
    "n, l = smp.symbols(\"n l\", integer = True, positive = True)"
   ]
  },
  {
   "cell_type": "markdown",
   "metadata": {},
   "source": [
    "Si definisce la parte radiale"
   ]
  },
  {
   "cell_type": "code",
   "execution_count": 42,
   "metadata": {},
   "outputs": [
    {
     "data": {
      "text/latex": [
       "$\\displaystyle \\frac{2 \\left(\\frac{2 r}{a n}\\right)^{l} e^{- \\frac{r}{a n}} L_{- l + n - 1}^{\\left(2 l + 1\\right)}\\left(\\frac{2 r}{a n}\\right) \\sqrt{\\left(- l + n - 1\\right)!}}{a^{\\frac{3}{2}} n^{2} \\sqrt{\\left(l + n\\right)!}}$"
      ],
      "text/plain": [
       "2*(2*r/(a*n))**l*exp(-r/(a*n))*assoc_laguerre(-l + n - 1, 2*l + 1, 2*r/(a*n))*sqrt(factorial(-l + n - 1))/(a**(3/2)*n**2*sqrt(factorial(l + n)))"
      ]
     },
     "execution_count": 42,
     "metadata": {},
     "output_type": "execute_result"
    }
   ],
   "source": [
    "R = smp.sqrt((2 / (n * a))**3 * (smp.factorial(n - l - 1) / (2 * n * smp.factorial(n + l)))) * smp.exp(-(r / (n * a))) * ((2 * r) / (n * a))**l * smp.assoc_laguerre(n - l - 1, 2 * l + 1, (2 * r) / (n * a))\n",
    "R"
   ]
  },
  {
   "cell_type": "markdown",
   "metadata": {},
   "source": [
    "Ground state $ n = 1 $, $ l = 0 $"
   ]
  },
  {
   "cell_type": "code",
   "execution_count": 43,
   "metadata": {},
   "outputs": [
    {
     "data": {
      "text/latex": [
       "$\\displaystyle \\frac{2 e^{- \\frac{r}{a}}}{a^{\\frac{3}{2}}}$"
      ],
      "text/plain": [
       "2*exp(-r/a)/a**(3/2)"
      ]
     },
     "execution_count": 43,
     "metadata": {},
     "output_type": "execute_result"
    }
   ],
   "source": [
    "R_10 = R.subs([(n, 1), (l, 0)])\n",
    "R_10"
   ]
  },
  {
   "cell_type": "markdown",
   "metadata": {},
   "source": [
    "Per prima cosa, conviene scrivere l'integrale nella generica forma $ \\int_{0}^{+\\infty}{R_{nl}^{2} r^{k} dr} $ con $ k \\in \\mathbb{N} $"
   ]
  },
  {
   "cell_type": "code",
   "execution_count": 44,
   "metadata": {},
   "outputs": [],
   "source": [
    "def compute_integral(n_val, l_val, k = 3):\n",
    "    R_nl = R.subs([(n, n_val), (l, l_val)])\n",
    "    integrand = R_nl**2 * r**k\n",
    "    limits = (r, 0, smp.oo)\n",
    "    return smp.integrate(integrand, limits)"
   ]
  },
  {
   "cell_type": "markdown",
   "metadata": {},
   "source": [
    "A questo punto si può calcolare la distanza media dell'elettrone dal nucleo per un dato livello energetico. Per esempio, nel ground state"
   ]
  },
  {
   "cell_type": "code",
   "execution_count": 45,
   "metadata": {},
   "outputs": [
    {
     "data": {
      "text/latex": [
       "$\\displaystyle \\frac{3 a}{2}$"
      ],
      "text/plain": [
       "3*a/2"
      ]
     },
     "execution_count": 45,
     "metadata": {},
     "output_type": "execute_result"
    }
   ],
   "source": [
    "compute_integral(1, 0)"
   ]
  },
  {
   "cell_type": "markdown",
   "metadata": {},
   "source": [
    "Analogamente per la deviazione standard"
   ]
  },
  {
   "cell_type": "code",
   "execution_count": 46,
   "metadata": {},
   "outputs": [],
   "source": [
    "def compute_std(n_val, l_val):\n",
    "    return smp.sqrt(compute_integral(n_val, l_val, k = 4) - (compute_integral(n_val, l_val, k = 3))**2)"
   ]
  },
  {
   "cell_type": "code",
   "execution_count": 47,
   "metadata": {},
   "outputs": [
    {
     "data": {
      "text/latex": [
       "$\\displaystyle \\frac{\\sqrt{3} a}{2}$"
      ],
      "text/plain": [
       "sqrt(3)*a/2"
      ]
     },
     "execution_count": 47,
     "metadata": {},
     "output_type": "execute_result"
    }
   ],
   "source": [
    "compute_std(1, 0)"
   ]
  },
  {
   "cell_type": "markdown",
   "metadata": {},
   "source": [
    "Usando il metodo `smp.lambdify()` è possibile per esempio plottare il valore di $ \\left<r\\right> $ in funzione di $ n $ con $ l = 0 $ fissato, in unità del raggio di Bohr (quindi $ a = 1 $)"
   ]
  },
  {
   "cell_type": "code",
   "execution_count": 48,
   "metadata": {},
   "outputs": [],
   "source": [
    "def compute_mean_distance(n_val, l_val = 0):\n",
    "    expr = compute_integral(n_val, l_val)\n",
    "    expr_f = smp.lambdify([a], expr)\n",
    "    return expr_f(1)"
   ]
  },
  {
   "cell_type": "code",
   "execution_count": 49,
   "metadata": {},
   "outputs": [
    {
     "data": {
      "image/png": "[encoded data removed]",
      "text/plain": [
       "<Figure size 800x600 with 1 Axes>"
      ]
     },
     "metadata": {},
     "output_type": "display_data"
    }
   ],
   "source": [
    "x_coord = np.arange(1, 10)\n",
    "y_coord = [compute_mean_distance(n_i) for n_i in x_coord]\n",
    "\n",
    "fig, ax = plt.subplots(nrows = 1, ncols = 1)\n",
    "ax.set_xlabel(\"n\")\n",
    "ax.set_ylabel(\"<r>\")\n",
    "\n",
    "ax.scatter(x_coord, y_coord)\n",
    "plt.show()"
   ]
  },
  {
   "cell_type": "markdown",
   "metadata": {},
   "source": [
    "## Esempio: Analisi 2"
   ]
  },
  {
   "cell_type": "code",
   "execution_count": 50,
   "metadata": {},
   "outputs": [],
   "source": [
    "x, y, z, u_1, u_2, u_3, v_1, v_2, v_3 = smp.symbols(\"x y z u_1 u_2 u_3 v_1 v_2 v_3\") "
   ]
  },
  {
   "cell_type": "markdown",
   "metadata": {},
   "source": [
    "### Vettori"
   ]
  },
  {
   "cell_type": "code",
   "execution_count": 51,
   "metadata": {},
   "outputs": [],
   "source": [
    "u = smp.Matrix([u_1, u_2, u_3])\n",
    "v = smp.Matrix([v_1, v_2, v_3])"
   ]
  },
  {
   "cell_type": "code",
   "execution_count": 52,
   "metadata": {},
   "outputs": [
    {
     "data": {
      "text/latex": [
       "$\\displaystyle \\left[\\begin{matrix}2 u_{1} + v_{1}\\\\2 u_{2} + v_{2}\\\\2 u_{3} + v_{3}\\end{matrix}\\right]$"
      ],
      "text/plain": [
       "Matrix([\n",
       "[2*u_1 + v_1],\n",
       "[2*u_2 + v_2],\n",
       "[2*u_3 + v_3]])"
      ]
     },
     "execution_count": 52,
     "metadata": {},
     "output_type": "execute_result"
    }
   ],
   "source": [
    "2*u + v"
   ]
  },
  {
   "cell_type": "markdown",
   "metadata": {},
   "source": [
    "#### Prodotto scalare"
   ]
  },
  {
   "cell_type": "code",
   "execution_count": 53,
   "metadata": {},
   "outputs": [
    {
     "data": {
      "text/latex": [
       "$\\displaystyle u_{1} v_{1} + u_{2} v_{2} + u_{3} v_{3}$"
      ],
      "text/plain": [
       "u_1*v_1 + u_2*v_2 + u_3*v_3"
      ]
     },
     "execution_count": 53,
     "metadata": {},
     "output_type": "execute_result"
    }
   ],
   "source": [
    "u.dot(v)"
   ]
  },
  {
   "cell_type": "markdown",
   "metadata": {},
   "source": [
    "#### Prodotto vettoriale"
   ]
  },
  {
   "cell_type": "code",
   "execution_count": 54,
   "metadata": {},
   "outputs": [
    {
     "data": {
      "text/latex": [
       "$\\displaystyle \\left[\\begin{matrix}u_{2} v_{3} - u_{3} v_{2}\\\\- u_{1} v_{3} + u_{3} v_{1}\\\\u_{1} v_{2} - u_{2} v_{1}\\end{matrix}\\right]$"
      ],
      "text/plain": [
       "Matrix([\n",
       "[ u_2*v_3 - u_3*v_2],\n",
       "[-u_1*v_3 + u_3*v_1],\n",
       "[ u_1*v_2 - u_2*v_1]])"
      ]
     },
     "execution_count": 54,
     "metadata": {},
     "output_type": "execute_result"
    }
   ],
   "source": [
    "u.cross(v)"
   ]
  },
  {
   "cell_type": "markdown",
   "metadata": {},
   "source": [
    "#### Norma"
   ]
  },
  {
   "cell_type": "code",
   "execution_count": 55,
   "metadata": {},
   "outputs": [
    {
     "data": {
      "text/latex": [
       "$\\displaystyle \\sqrt{\\left|{u_{1}}\\right|^{2} + \\left|{u_{2}}\\right|^{2} + \\left|{u_{3}}\\right|^{2}}$"
      ],
      "text/plain": [
       "sqrt(Abs(u_1)**2 + Abs(u_2)**2 + Abs(u_3)**2)"
      ]
     },
     "execution_count": 55,
     "metadata": {},
     "output_type": "execute_result"
    }
   ],
   "source": [
    "u.norm()"
   ]
  },
  {
   "cell_type": "markdown",
   "metadata": {},
   "source": [
    "#### Proiezioni"
   ]
  },
  {
   "cell_type": "code",
   "execution_count": 56,
   "metadata": {},
   "outputs": [
    {
     "data": {
      "text/latex": [
       "$\\displaystyle \\left[\\begin{matrix}\\frac{v_{1} \\left(u_{1} v_{1} + u_{2} v_{2} + u_{3} v_{3}\\right)}{\\left|{v_{1}}\\right|^{2} + \\left|{v_{2}}\\right|^{2} + \\left|{v_{3}}\\right|^{2}}\\\\\\frac{v_{2} \\left(u_{1} v_{1} + u_{2} v_{2} + u_{3} v_{3}\\right)}{\\left|{v_{1}}\\right|^{2} + \\left|{v_{2}}\\right|^{2} + \\left|{v_{3}}\\right|^{2}}\\\\\\frac{v_{3} \\left(u_{1} v_{1} + u_{2} v_{2} + u_{3} v_{3}\\right)}{\\left|{v_{1}}\\right|^{2} + \\left|{v_{2}}\\right|^{2} + \\left|{v_{3}}\\right|^{2}}\\end{matrix}\\right]$"
      ],
      "text/plain": [
       "Matrix([\n",
       "[v_1*(u_1*v_1 + u_2*v_2 + u_3*v_3)/(Abs(v_1)**2 + Abs(v_2)**2 + Abs(v_3)**2)],\n",
       "[v_2*(u_1*v_1 + u_2*v_2 + u_3*v_3)/(Abs(v_1)**2 + Abs(v_2)**2 + Abs(v_3)**2)],\n",
       "[v_3*(u_1*v_1 + u_2*v_2 + u_3*v_3)/(Abs(v_1)**2 + Abs(v_2)**2 + Abs(v_3)**2)]])"
      ]
     },
     "execution_count": 56,
     "metadata": {},
     "output_type": "execute_result"
    }
   ],
   "source": [
    "proj_v_u = (u.dot(v) / v.norm()**2) * v\n",
    "proj_v_u "
   ]
  },
  {
   "cell_type": "markdown",
   "metadata": {},
   "source": [
    "#### Rette e piani"
   ]
  },
  {
   "cell_type": "code",
   "execution_count": 57,
   "metadata": {},
   "outputs": [
    {
     "data": {
      "text/latex": [
       "$\\displaystyle \\left[\\begin{matrix}t + 1\\\\3 t + 1\\\\1 - t\\end{matrix}\\right]$"
      ],
      "text/plain": [
       "Matrix([\n",
       "[  t + 1],\n",
       "[3*t + 1],\n",
       "[  1 - t]])"
      ]
     },
     "execution_count": 57,
     "metadata": {},
     "output_type": "execute_result"
    }
   ],
   "source": [
    "# Retta\n",
    "r_0 = smp.Matrix([1, 1, 1])\n",
    "v = smp.Matrix([1, 3, -1])\n",
    "r = r_0 + t * v\n",
    "r"
   ]
  },
  {
   "cell_type": "code",
   "execution_count": 58,
   "metadata": {},
   "outputs": [
    {
     "data": {
      "text/latex": [
       "$\\displaystyle - x - y - z + 16$"
      ],
      "text/plain": [
       "-x - y - z + 16"
      ]
     },
     "execution_count": 58,
     "metadata": {},
     "output_type": "execute_result"
    }
   ],
   "source": [
    "# Piano\n",
    "P_0 = smp.Matrix([4, 4, 8])\n",
    "r = smp.Matrix([x, y, z])\n",
    "n = smp.Matrix([1, 1, 1])\n",
    "n.dot(P_0 - r)"
   ]
  },
  {
   "cell_type": "markdown",
   "metadata": {},
   "source": [
    "### Calcolo vettoriale\n",
    "#### Curve"
   ]
  },
  {
   "cell_type": "code",
   "execution_count": 59,
   "metadata": {},
   "outputs": [
    {
     "data": {
      "text/latex": [
       "$\\displaystyle \\left[\\begin{matrix}3 t\\\\\\sin{\\left(t \\right)}\\\\t^{2}\\end{matrix}\\right]$"
      ],
      "text/plain": [
       "Matrix([\n",
       "[   3*t],\n",
       "[sin(t)],\n",
       "[  t**2]])"
      ]
     },
     "execution_count": 59,
     "metadata": {},
     "output_type": "execute_result"
    }
   ],
   "source": [
    "# Curva in R^3\n",
    "r = smp.Matrix([3 * t, smp.sin(t), t**2])\n",
    "r"
   ]
  },
  {
   "cell_type": "code",
   "execution_count": 60,
   "metadata": {},
   "outputs": [
    {
     "data": {
      "text/latex": [
       "$\\displaystyle \\left[\\begin{matrix}3\\\\\\cos{\\left(t \\right)}\\\\2 t\\end{matrix}\\right]$"
      ],
      "text/plain": [
       "Matrix([\n",
       "[     3],\n",
       "[cos(t)],\n",
       "[   2*t]])"
      ]
     },
     "execution_count": 60,
     "metadata": {},
     "output_type": "execute_result"
    }
   ],
   "source": [
    "# Vettore velocità\n",
    "smp.diff(r, t)"
   ]
  },
  {
   "cell_type": "markdown",
   "metadata": {},
   "source": [
    "Per esempio: trova l'angolo $ \\theta(t) $ tra velocità e accelerazione come funzione del tempo"
   ]
  },
  {
   "cell_type": "code",
   "execution_count": 61,
   "metadata": {},
   "outputs": [
    {
     "data": {
      "text/latex": [
       "$\\displaystyle \\operatorname{acos}{\\left(\\frac{4 t - \\frac{\\sin{\\left(2 t \\right)}}{2}}{\\sqrt{\\sin^{2}{\\left(t \\right)} + 4} \\sqrt{4 t^{2} + \\cos^{2}{\\left(t \\right)} + 9}} \\right)}$"
      ],
      "text/plain": [
       "acos((4*t - sin(2*t)/2)/(sqrt(sin(t)**2 + 4)*sqrt(4*t**2 + cos(t)**2 + 9)))"
      ]
     },
     "execution_count": 61,
     "metadata": {},
     "output_type": "execute_result"
    }
   ],
   "source": [
    "v = smp.diff(r, t)\n",
    "a = smp.diff(v, t)\n",
    "theta_t = smp.acos(v.dot(a) / (v.norm() * a.norm())).simplify()\n",
    "theta_t"
   ]
  },
  {
   "cell_type": "markdown",
   "metadata": {},
   "source": [
    "Trova l'angolo per $ t = 6 $"
   ]
  },
  {
   "cell_type": "code",
   "execution_count": 62,
   "metadata": {},
   "outputs": [
    {
     "data": {
      "text/latex": [
       "$\\displaystyle \\operatorname{acos}{\\left(\\frac{24 - \\frac{\\sin{\\left(12 \\right)}}{2}}{\\sqrt{\\sin^{2}{\\left(6 \\right)} + 4} \\sqrt{\\cos^{2}{\\left(6 \\right)} + 153}} \\right)}$"
      ],
      "text/plain": [
       "acos((24 - sin(12)/2)/(sqrt(sin(6)**2 + 4)*sqrt(cos(6)**2 + 153)))"
      ]
     },
     "execution_count": 62,
     "metadata": {},
     "output_type": "execute_result"
    }
   ],
   "source": [
    "theta_t.subs([(t, 6)])"
   ]
  },
  {
   "cell_type": "markdown",
   "metadata": {},
   "source": [
    "Per valutarlo numericamente si usa il metodo `evalf()`"
   ]
  },
  {
   "cell_type": "code",
   "execution_count": 63,
   "metadata": {},
   "outputs": [
    {
     "data": {
      "text/latex": [
       "$\\displaystyle 0.251108015692338$"
      ],
      "text/plain": [
       "0.251108015692338"
      ]
     },
     "execution_count": 63,
     "metadata": {},
     "output_type": "execute_result"
    }
   ],
   "source": [
    "theta_t.subs([(t, 6)]).evalf()"
   ]
  },
  {
   "cell_type": "markdown",
   "metadata": {},
   "source": [
    "### Integrali vettoriali"
   ]
  },
  {
   "cell_type": "code",
   "execution_count": 64,
   "metadata": {},
   "outputs": [
    {
     "data": {
      "text/latex": [
       "$\\displaystyle \\left[\\begin{matrix}e^{t} \\cos{\\left(t \\right)}\\\\t^{4}\\\\\\frac{1}{t^{2} + 1}\\end{matrix}\\right]$"
      ],
      "text/plain": [
       "Matrix([\n",
       "[exp(t)*cos(t)],\n",
       "[         t**4],\n",
       "[ 1/(t**2 + 1)]])"
      ]
     },
     "execution_count": 64,
     "metadata": {},
     "output_type": "execute_result"
    }
   ],
   "source": [
    "r = smp.Matrix([smp.exp(t) * smp.cos(t), t**4, 1 / (1 + t**2)])\n",
    "r"
   ]
  },
  {
   "cell_type": "code",
   "execution_count": 65,
   "metadata": {},
   "outputs": [
    {
     "data": {
      "text/latex": [
       "$\\displaystyle \\left[\\begin{matrix}\\frac{e^{t} \\sin{\\left(t \\right)}}{2} + \\frac{e^{t} \\cos{\\left(t \\right)}}{2}\\\\\\frac{t^{5}}{5}\\\\\\operatorname{atan}{\\left(t \\right)}\\end{matrix}\\right]$"
      ],
      "text/plain": [
       "Matrix([\n",
       "[exp(t)*sin(t)/2 + exp(t)*cos(t)/2],\n",
       "[                           t**5/5],\n",
       "[                          atan(t)]])"
      ]
     },
     "execution_count": 65,
     "metadata": {},
     "output_type": "execute_result"
    }
   ],
   "source": [
    "smp.Integral(r, t).doit()"
   ]
  },
  {
   "cell_type": "markdown",
   "metadata": {},
   "source": [
    "#### Lunghezza di una curva\n",
    "\n",
    "$$ L = \\int_{a}^{b}{\\sqrt{\\left(\\frac{dx}{dt}\\right)^2 + \\left(\\frac{dy}{dt}\\right)^2 + \\left(\\frac{dz}{dt}\\right)^2}} dt $$"
   ]
  },
  {
   "cell_type": "code",
   "execution_count": 66,
   "metadata": {},
   "outputs": [
    {
     "data": {
      "text/latex": [
       "$\\displaystyle \\frac{\\operatorname{asinh}{\\left(2 \\right)}}{4} + \\frac{\\sqrt{5}}{2}$"
      ],
      "text/plain": [
       "asinh(2)/4 + sqrt(5)/2"
      ]
     },
     "execution_count": 66,
     "metadata": {},
     "output_type": "execute_result"
    }
   ],
   "source": [
    "r = smp.Matrix([0, t, t**2])\n",
    "smp.integrate(smp.diff(r, t).norm(), (t, 0, 1)) # Integrale da 0 a 1"
   ]
  },
  {
   "cell_type": "code",
   "execution_count": 67,
   "metadata": {},
   "outputs": [
    {
     "data": {
      "text/latex": [
       "$\\displaystyle 1.4789428575446$"
      ],
      "text/plain": [
       "1.47894285754460"
      ]
     },
     "execution_count": 67,
     "metadata": {},
     "output_type": "execute_result"
    }
   ],
   "source": [
    "smp.integrate(smp.diff(r, t).norm(), (t, 0, 1)).evalf()"
   ]
  },
  {
   "cell_type": "markdown",
   "metadata": {},
   "source": [
    "### Esempio: campo magnetico di un filo percorso da corrente\n",
    "Il campo magnetico di un filo percorso da corrente in un punto dello spazio $ \\vec{r} = (x, y, z) $ è dato da\n",
    "\n",
    "$$ \\vec{B}(\\vec{r}) = \\frac{\\mu_{0}}{4 \\pi} \\int_{[a, b]}{\\frac{I \\frac{d \\vec{l}}{dt} \\times (\\vec{r} - \\vec{l})}{|| \\vec{r} - \\vec{l} ||^3}} dt $$\n",
    "\n",
    "dove $ \\vec{l} = (f(t), g(t), h(t)) $ è una curva nello spazio parametrizzata da $ t $ che definisce la posizione del filo."
   ]
  },
  {
   "cell_type": "code",
   "execution_count": 68,
   "metadata": {},
   "outputs": [
    {
     "data": {
      "text/latex": [
       "$\\displaystyle \\left[\\begin{matrix}\\frac{I \\left(- \\left(y - g{\\left(t \\right)}\\right) \\frac{d}{d t} h{\\left(t \\right)} + \\left(z - h{\\left(t \\right)}\\right) \\frac{d}{d t} g{\\left(t \\right)}\\right)}{\\left(\\left|{x - f{\\left(t \\right)}}\\right|^{2} + \\left|{y - g{\\left(t \\right)}}\\right|^{2} + \\left|{z - h{\\left(t \\right)}}\\right|^{2}\\right)^{\\frac{3}{2}}}\\\\\\frac{I \\left(\\left(x - f{\\left(t \\right)}\\right) \\frac{d}{d t} h{\\left(t \\right)} - \\left(z - h{\\left(t \\right)}\\right) \\frac{d}{d t} f{\\left(t \\right)}\\right)}{\\left(\\left|{x - f{\\left(t \\right)}}\\right|^{2} + \\left|{y - g{\\left(t \\right)}}\\right|^{2} + \\left|{z - h{\\left(t \\right)}}\\right|^{2}\\right)^{\\frac{3}{2}}}\\\\\\frac{I \\left(- \\left(x - f{\\left(t \\right)}\\right) \\frac{d}{d t} g{\\left(t \\right)} + \\left(y - g{\\left(t \\right)}\\right) \\frac{d}{d t} f{\\left(t \\right)}\\right)}{\\left(\\left|{x - f{\\left(t \\right)}}\\right|^{2} + \\left|{y - g{\\left(t \\right)}}\\right|^{2} + \\left|{z - h{\\left(t \\right)}}\\right|^{2}\\right)^{\\frac{3}{2}}}\\end{matrix}\\right]$"
      ],
      "text/plain": [
       "Matrix([\n",
       "[I*(-(y - g(t))*Derivative(h(t), t) + (z - h(t))*Derivative(g(t), t))/(Abs(x - f(t))**2 + Abs(y - g(t))**2 + Abs(z - h(t))**2)**(3/2)],\n",
       "[ I*((x - f(t))*Derivative(h(t), t) - (z - h(t))*Derivative(f(t), t))/(Abs(x - f(t))**2 + Abs(y - g(t))**2 + Abs(z - h(t))**2)**(3/2)],\n",
       "[I*(-(x - f(t))*Derivative(g(t), t) + (y - g(t))*Derivative(f(t), t))/(Abs(x - f(t))**2 + Abs(y - g(t))**2 + Abs(z - h(t))**2)**(3/2)]])"
      ]
     },
     "execution_count": 68,
     "metadata": {},
     "output_type": "execute_result"
    }
   ],
   "source": [
    "# Si definiscono le variabili simboliche\n",
    "x, y, z, t, I, mu_0 = smp.symbols(\"x y z t I mu_0\", real = True)\n",
    "f, g, h = smp.symbols(\"f g h\", cls = smp.Function)\n",
    "f = f(t)\n",
    "g = g(t)\n",
    "h = h(t)\n",
    "\n",
    "# Si definiscono r, l e dl / dt\n",
    "r = smp.Matrix([x, y, z])\n",
    "l = smp.Matrix([f, g, h])\n",
    "dl_dt = smp.diff(l)\n",
    "\n",
    "# Si definisce l'integranda\n",
    "dB_dt = I * dl_dt.cross(r - l) / (r - l).norm()**3\n",
    "dB_dt"
   ]
  },
  {
   "cell_type": "markdown",
   "metadata": {},
   "source": [
    "Ora per esempio si vuole calcolare il campo magnetico ad una distanza $ H $ al di sopra di una spira circolare di raggio $ R $, lungo il suo asse"
   ]
  },
  {
   "cell_type": "code",
   "execution_count": 69,
   "metadata": {},
   "outputs": [
    {
     "data": {
      "text/latex": [
       "$\\displaystyle \\left[\\begin{matrix}\\frac{H I R \\cos{\\left(t \\right)}}{\\left(H^{2} + R^{2}\\right)^{\\frac{3}{2}}}\\\\\\frac{H I R \\sin{\\left(t \\right)}}{\\left(H^{2} + R^{2}\\right)^{\\frac{3}{2}}}\\\\\\frac{I R \\left(R \\sin^{2}{\\left(t \\right)} + R \\cos^{2}{\\left(t \\right)}\\right)}{\\left(H^{2} + R^{2}\\right)^{\\frac{3}{2}}}\\end{matrix}\\right]$"
      ],
      "text/plain": [
       "Matrix([\n",
       "[                   H*I*R*cos(t)/(H**2 + R**2)**(3/2)],\n",
       "[                   H*I*R*sin(t)/(H**2 + R**2)**(3/2)],\n",
       "[I*R*(R*sin(t)**2 + R*cos(t)**2)/(H**2 + R**2)**(3/2)]])"
      ]
     },
     "execution_count": 69,
     "metadata": {},
     "output_type": "execute_result"
    }
   ],
   "source": [
    "# Si definiscono R e H\n",
    "R, H = smp.symbols(\"R H\", real = True)\n",
    "\n",
    "# Si sostituiscono le espressioni f(t), g(t), h(t) per una spira circolare\n",
    "dB_dt = dB_dt.subs([(f, R * smp.cos(t)), (g, R * smp.sin(t)), (h, 0), (x, 0), (y, 0), (z, H)])\n",
    "dB_dt.simplify()\n",
    "dB_dt"
   ]
  },
  {
   "cell_type": "markdown",
   "metadata": {},
   "source": [
    "Per trovare il campo magnetico $ \\vec{B} $ in $ \\vec{r} $ si integra"
   ]
  },
  {
   "cell_type": "code",
   "execution_count": 70,
   "metadata": {},
   "outputs": [
    {
     "data": {
      "text/latex": [
       "$\\displaystyle \\left[\\begin{matrix}0\\\\0\\\\\\frac{I R^{2} \\mu_{0}}{2 \\left(H^{2} + R^{2}\\right)^{\\frac{3}{2}}}\\end{matrix}\\right]$"
      ],
      "text/plain": [
       "Matrix([\n",
       "[                                   0],\n",
       "[                                   0],\n",
       "[I*R**2*mu_0/(2*(H**2 + R**2)**(3/2))]])"
      ]
     },
     "execution_count": 70,
     "metadata": {},
     "output_type": "execute_result"
    }
   ],
   "source": [
    "result = (mu_0 / (4 * smp.pi)) * smp.integrate(dB_dt, (t, 0, 2 * smp.pi))\n",
    "result"
   ]
  },
  {
   "cell_type": "markdown",
   "metadata": {},
   "source": [
    "### Derivate parziali"
   ]
  },
  {
   "cell_type": "code",
   "execution_count": 71,
   "metadata": {},
   "outputs": [],
   "source": [
    "x, y, z = smp.symbols(\"x y z\")"
   ]
  },
  {
   "cell_type": "markdown",
   "metadata": {},
   "source": [
    "Derivate parziali di $ f(x, y) = y^2 \\sin(x + y) $"
   ]
  },
  {
   "cell_type": "code",
   "execution_count": 72,
   "metadata": {},
   "outputs": [
    {
     "data": {
      "text/latex": [
       "$\\displaystyle y^{2} \\cos{\\left(x + y \\right)}$"
      ],
      "text/plain": [
       "y**2*cos(x + y)"
      ]
     },
     "execution_count": 72,
     "metadata": {},
     "output_type": "execute_result"
    }
   ],
   "source": [
    "f = y**2 * smp.sin(x + y)\n",
    "smp.diff(f, x)"
   ]
  },
  {
   "cell_type": "code",
   "execution_count": 73,
   "metadata": {},
   "outputs": [
    {
     "data": {
      "text/latex": [
       "$\\displaystyle y^{2} \\cos{\\left(x + y \\right)} + 2 y \\sin{\\left(x + y \\right)}$"
      ],
      "text/plain": [
       "y**2*cos(x + y) + 2*y*sin(x + y)"
      ]
     },
     "execution_count": 73,
     "metadata": {},
     "output_type": "execute_result"
    }
   ],
   "source": [
    "smp.diff(f, y)"
   ]
  },
  {
   "cell_type": "markdown",
   "metadata": {},
   "source": [
    "Per le derivate seconde miste, per esempio $ \\frac{\\partial^2 f}{\\partial x \\partial y^2} $"
   ]
  },
  {
   "cell_type": "code",
   "execution_count": 74,
   "metadata": {},
   "outputs": [
    {
     "data": {
      "text/latex": [
       "$\\displaystyle - y^{2} \\cos{\\left(x + y \\right)} - 4 y \\sin{\\left(x + y \\right)} + 2 \\cos{\\left(x + y \\right)}$"
      ],
      "text/plain": [
       "-y**2*cos(x + y) - 4*y*sin(x + y) + 2*cos(x + y)"
      ]
     },
     "execution_count": 74,
     "metadata": {},
     "output_type": "execute_result"
    }
   ],
   "source": [
    "smp.diff(f, y, y, x)"
   ]
  },
  {
   "cell_type": "markdown",
   "metadata": {},
   "source": [
    "#### Regola della catena\n",
    "Si assume che $ x $, $ y $, $ z $ siano funzioni di $ t $ e che $ w $ sia funzione di $ x $, $ y $ e $ z $ "
   ]
  },
  {
   "cell_type": "code",
   "execution_count": 84,
   "metadata": {},
   "outputs": [],
   "source": [
    "t = smp.symbols(\"t\")\n",
    "x, y, z, w, v = smp.symbols(\"x y z w v\", cls = smp.Function)"
   ]
  },
  {
   "cell_type": "markdown",
   "metadata": {},
   "source": [
    "Si vuole trovare $ \\frac{dw}{dt} $"
   ]
  },
  {
   "cell_type": "code",
   "execution_count": 85,
   "metadata": {},
   "outputs": [],
   "source": [
    "x = x(t)\n",
    "y = y(t)\n",
    "z = z(t)\n",
    "w = w(x, y, z)"
   ]
  },
  {
   "cell_type": "code",
   "execution_count": 86,
   "metadata": {},
   "outputs": [
    {
     "data": {
      "text/latex": [
       "$\\displaystyle w{\\left(x{\\left(t \\right)},y{\\left(t \\right)},z{\\left(t \\right)} \\right)}$"
      ],
      "text/plain": [
       "w(x(t), y(t), z(t))"
      ]
     },
     "execution_count": 86,
     "metadata": {},
     "output_type": "execute_result"
    }
   ],
   "source": [
    "w"
   ]
  },
  {
   "cell_type": "markdown",
   "metadata": {},
   "source": [
    "SymPy applica automaticamente la regola della catena"
   ]
  },
  {
   "cell_type": "code",
   "execution_count": 87,
   "metadata": {},
   "outputs": [
    {
     "data": {
      "text/latex": [
       "$\\displaystyle \\frac{d}{d x{\\left(t \\right)}} w{\\left(x{\\left(t \\right)},y{\\left(t \\right)},z{\\left(t \\right)} \\right)} \\frac{d}{d t} x{\\left(t \\right)} + \\frac{d}{d y{\\left(t \\right)}} w{\\left(x{\\left(t \\right)},y{\\left(t \\right)},z{\\left(t \\right)} \\right)} \\frac{d}{d t} y{\\left(t \\right)} + \\frac{d}{d z{\\left(t \\right)}} w{\\left(x{\\left(t \\right)},y{\\left(t \\right)},z{\\left(t \\right)} \\right)} \\frac{d}{d t} z{\\left(t \\right)}$"
      ],
      "text/plain": [
       "Derivative(w(x(t), y(t), z(t)), x(t))*Derivative(x(t), t) + Derivative(w(x(t), y(t), z(t)), y(t))*Derivative(y(t), t) + Derivative(w(x(t), y(t), z(t)), z(t))*Derivative(z(t), t)"
      ]
     },
     "execution_count": 87,
     "metadata": {},
     "output_type": "execute_result"
    }
   ],
   "source": [
    "smp.diff(w, t)"
   ]
  },
  {
   "cell_type": "markdown",
   "metadata": {},
   "source": [
    "Per esempio, data $ w_{0}(x(t), y(t), z(t)) = x^2(t) + e^{y(t)} \\sin(z(t)) $, dove\n",
    "$$ x(t) = \\sin(t) $$\n",
    "$$ y(t) = \\cos(t) $$\n",
    "$$ z(t) = t^2 $$"
   ]
  },
  {
   "cell_type": "code",
   "execution_count": 89,
   "metadata": {},
   "outputs": [
    {
     "data": {
      "text/latex": [
       "$\\displaystyle 2 t e^{\\cos{\\left(t \\right)}} \\cos{\\left(t^{2} \\right)} - e^{\\cos{\\left(t \\right)}} \\sin{\\left(t \\right)} \\sin{\\left(t^{2} \\right)} + 2 \\sin{\\left(t \\right)} \\cos{\\left(t \\right)}$"
      ],
      "text/plain": [
       "2*t*exp(cos(t))*cos(t**2) - exp(cos(t))*sin(t)*sin(t**2) + 2*sin(t)*cos(t)"
      ]
     },
     "execution_count": 89,
     "metadata": {},
     "output_type": "execute_result"
    }
   ],
   "source": [
    "w_0 = x**2 + smp.exp(y) * smp.sin(z)\n",
    "smp.diff(w_0, t).subs([(x, smp.sin(t)), (y, smp.cos(t)), (z, t**2)]).doit()"
   ]
  },
  {
   "cell_type": "markdown",
   "metadata": {},
   "source": [
    "### Integrali multipli\n",
    "Per esempio, si vuole risolvere\n",
    "\n",
    "$$ I = \\int_{0}^{1} dx \\int_{0}^{1 - x^2} dy \\int_{3}^{4 - x^2 - y^2} x dz $$"
   ]
  },
  {
   "cell_type": "code",
   "execution_count": 90,
   "metadata": {},
   "outputs": [
    {
     "data": {
      "text/latex": [
       "$\\displaystyle \\frac{1}{8}$"
      ],
      "text/plain": [
       "1/8"
      ]
     },
     "execution_count": 90,
     "metadata": {},
     "output_type": "execute_result"
    }
   ],
   "source": [
    "x, y, z = smp.symbols(\"x y z\")\n",
    "limits_x = (x, 0, 1)\n",
    "limits_y = (y, 0, 1 - x**2)\n",
    "limits_z = (z, 3, 4 - x**2 - y**2)\n",
    "smp.integrate(x, limits_z, limits_y, limits_x)"
   ]
  }
 ],
 "metadata": {
  "kernelspec": {
   "display_name": "learning",
   "language": "python",
   "name": "python3"
  },
  "language_info": {
   "codemirror_mode": {
    "name": "ipython",
    "version": 3
   },
   "file_extension": ".py",
   "mimetype": "text/x-python",
   "name": "python",
   "nbconvert_exporter": "python",
   "pygments_lexer": "ipython3",
   "version": "3.12.4"
  }
 },
 "nbformat": 4,
 "nbformat_minor": 2
}
